{
 "cells": [
  {
   "cell_type": "markdown",
   "id": "5f4ea5f4",
   "metadata": {},
   "source": [
    "### ASSIGNMENT  20-11-2023\n",
    "#### 1. Learn the enumerate function.\n",
    "#### 2. learn how to use the random.randit function in numpy.\n",
    "#### 3. Learn how to reshape arrays."
   ]
  },
  {
   "cell_type": "code",
   "execution_count": 1,
   "id": "31af5316",
   "metadata": {},
   "outputs": [
    {
     "name": "stdout",
     "output_type": "stream",
     "text": [
      "(0, 'groundnut')\n",
      "(1, 'cashew nut')\n",
      "(2, 'burger')\n"
     ]
    }
   ],
   "source": [
    "# The enumerate fuction works thus:\n",
    "floating_berries=[\"groundnut\",\"cashew nut\",\"burger\"]\n",
    "for items in enumerate (floating_berries):\n",
    "    print(items)"
   ]
  },
  {
   "cell_type": "code",
   "execution_count": 3,
   "id": "e4e207bc",
   "metadata": {},
   "outputs": [
    {
     "name": "stdout",
     "output_type": "stream",
     "text": [
      "3\n",
      "[[7 5 1]\n",
      " [9 1 7]\n",
      " [5 4 1]]\n"
     ]
    }
   ],
   "source": [
    "#How to use random.randint:\n",
    "import numpy as np\n",
    "random_number=np.random.randint(1,10)\n",
    "print(random_number)\n",
    "random_array=np.random.randint(1,10,size=(3,3))\n",
    "print(random_array)\n"
   ]
  },
  {
   "cell_type": "code",
   "execution_count": 5,
   "id": "658c2ca6",
   "metadata": {},
   "outputs": [
    {
     "name": "stdout",
     "output_type": "stream",
     "text": [
      "New_array= [[4 5 6]\n",
      " [2 1 3]]\n",
      "\n",
      "Reshaped Array: [[4 5]\n",
      " [6 2]\n",
      " [1 3]]\n"
     ]
    }
   ],
   "source": [
    "#How to reshape arrays:\n",
    "new_array=np.array([[4,5,6,],[2,1,3]]) \n",
    "#To reshappe this array to 3x2, it'll be:\n",
    "reshape_array=new_array.reshape(3,2)\n",
    "print(\"New_array=\", new_array)\n",
    "print(\"\\nReshaped Array:\", reshape_array)\n",
    "\n"
   ]
  },
  {
   "cell_type": "code",
   "execution_count": null,
   "id": "bba8b25f",
   "metadata": {},
   "outputs": [],
   "source": []
  }
 ],
 "metadata": {
  "kernelspec": {
   "display_name": "Python 3 (ipykernel)",
   "language": "python",
   "name": "python3"
  },
  "language_info": {
   "codemirror_mode": {
    "name": "ipython",
    "version": 3
   },
   "file_extension": ".py",
   "mimetype": "text/x-python",
   "name": "python",
   "nbconvert_exporter": "python",
   "pygments_lexer": "ipython3",
   "version": "3.10.9"
  }
 },
 "nbformat": 4,
 "nbformat_minor": 5
}
